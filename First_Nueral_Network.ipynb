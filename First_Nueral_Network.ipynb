{
  "nbformat": 4,
  "nbformat_minor": 0,
  "metadata": {
    "colab": {
      "provenance": []
    },
    "kernelspec": {
      "name": "python3",
      "display_name": "Python 3"
    },
    "language_info": {
      "name": "python"
    }
  },
  "cells": [
    {
      "cell_type": "code",
      "source": [
        "# first neural network with keras tutorial\n",
        "from numpy import loadtxt\n",
        "from tensorflow.keras.models import Sequential\n",
        "from tensorflow.keras.layers import Dense"
      ],
      "metadata": {
        "id": "5t3UiEHEKdmH"
      },
      "execution_count": 1,
      "outputs": []
    },
    {
      "cell_type": "code",
      "source": [
        "...\n",
        "# load the dataset\n",
        "dataset = loadtxt('pid.txt', delimiter=',')\n",
        "# split into input (X) and output (y) variables\n",
        "X = dataset[:,0:8]\n",
        "y = dataset[:,8]"
      ],
      "metadata": {
        "id": "iDDlNqkyKgue"
      },
      "execution_count": 5,
      "outputs": []
    },
    {
      "cell_type": "code",
      "source": [
        "model = Sequential()\n",
        "model.add(Dense(12, input_shape=(8,), activation='relu'))\n",
        "model.add(Dense(8, activation='relu'))\n",
        "model.add(Dense(1, activation='sigmoid'))"
      ],
      "metadata": {
        "id": "kyKxUKXsJ67n"
      },
      "execution_count": 6,
      "outputs": []
    },
    {
      "cell_type": "code",
      "source": [
        "# compile the keras model\n",
        "model.compile(loss='binary_crossentropy', optimizer='adam', metrics=['accuracy'])"
      ],
      "metadata": {
        "id": "5XLP3nBnKHl0"
      },
      "execution_count": 7,
      "outputs": []
    },
    {
      "cell_type": "code",
      "source": [
        "\n",
        "...\n",
        "# fit the keras model on the dataset\n",
        "model.fit(X, y, epochs=10, batch_size=10)"
      ],
      "metadata": {
        "colab": {
          "base_uri": "https://localhost:8080/"
        },
        "id": "rhPYtnPXKOBC",
        "outputId": "4182027d-e142-498a-b708-c701cb49b8d2"
      },
      "execution_count": 9,
      "outputs": [
        {
          "output_type": "stream",
          "name": "stdout",
          "text": [
            "Epoch 1/10\n",
            "77/77 [==============================] - 0s 3ms/step - loss: 0.5403 - accuracy: 0.7409\n",
            "Epoch 2/10\n",
            "77/77 [==============================] - 0s 2ms/step - loss: 0.6013 - accuracy: 0.7122\n",
            "Epoch 3/10\n",
            "77/77 [==============================] - 0s 2ms/step - loss: 0.5411 - accuracy: 0.7331\n",
            "Epoch 4/10\n",
            "77/77 [==============================] - 0s 2ms/step - loss: 0.5330 - accuracy: 0.7448\n",
            "Epoch 5/10\n",
            "77/77 [==============================] - 0s 2ms/step - loss: 0.5612 - accuracy: 0.7487\n",
            "Epoch 6/10\n",
            "77/77 [==============================] - 0s 2ms/step - loss: 0.6920 - accuracy: 0.6862\n",
            "Epoch 7/10\n",
            "77/77 [==============================] - 0s 2ms/step - loss: 0.5702 - accuracy: 0.7279\n",
            "Epoch 8/10\n",
            "77/77 [==============================] - 0s 2ms/step - loss: 0.5165 - accuracy: 0.7682\n",
            "Epoch 9/10\n",
            "77/77 [==============================] - 0s 2ms/step - loss: 0.4973 - accuracy: 0.7578\n",
            "Epoch 10/10\n",
            "77/77 [==============================] - 0s 2ms/step - loss: 0.5105 - accuracy: 0.7487\n"
          ]
        },
        {
          "output_type": "execute_result",
          "data": {
            "text/plain": [
              "<keras.src.callbacks.History at 0x7bae92c3b820>"
            ]
          },
          "metadata": {},
          "execution_count": 9
        }
      ]
    },
    {
      "cell_type": "code",
      "source": [
        "# evaluate the keras model\n",
        "_, accuracy = model.evaluate(X, y)\n",
        "print('Accuracy: %.2f' % (accuracy*100))"
      ],
      "metadata": {
        "colab": {
          "base_uri": "https://localhost:8080/"
        },
        "id": "FRHkv6lBKTbm",
        "outputId": "2f5be0d8-c208-4eb6-88f3-e01e8aced754"
      },
      "execution_count": 10,
      "outputs": [
        {
          "output_type": "stream",
          "name": "stdout",
          "text": [
            "24/24 [==============================] - 0s 2ms/step - loss: 0.8020 - accuracy: 0.6732\n",
            "Accuracy: 67.32\n"
          ]
        }
      ]
    }
  ]
}