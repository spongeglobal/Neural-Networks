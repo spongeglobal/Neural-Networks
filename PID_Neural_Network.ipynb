{
  "nbformat": 4,
  "nbformat_minor": 0,
  "metadata": {
    "colab": {
      "provenance": []
    },
    "kernelspec": {
      "name": "python3",
      "display_name": "Python 3"
    },
    "language_info": {
      "name": "python"
    }
  },
  "cells": [
    {
      "cell_type": "code",
      "execution_count": 1,
      "metadata": {
        "id": "Hd7oxSfQuqjC"
      },
      "outputs": [],
      "source": [
        "# first neural network with keras tutorial\n",
        "from numpy import loadtxt\n",
        "from tensorflow.keras.models import Sequential\n",
        "from tensorflow.keras.layers import Dense"
      ]
    },
    {
      "cell_type": "code",
      "source": [
        "# load the dataset\n",
        "dataset = loadtxt('pid.txt', delimiter=',')\n",
        "# split into input (X) and output (y) variables\n",
        "X = dataset[:,0:8]\n",
        "y = dataset[:,8]"
      ],
      "metadata": {
        "id": "4eR5xUIwvAqa"
      },
      "execution_count": 2,
      "outputs": []
    },
    {
      "cell_type": "code",
      "source": [
        "model = Sequential()\n",
        "model.add(Dense(12, input_shape=(8,), activation='relu'))\n",
        "model.add(Dense(8, activation='relu'))\n",
        "model.add(Dense(1, activation='sigmoid'))"
      ],
      "metadata": {
        "id": "g5rdcyb6vggG"
      },
      "execution_count": 3,
      "outputs": []
    },
    {
      "cell_type": "code",
      "source": [
        "# compile the keras model\n",
        "model.compile(loss='binary_crossentropy', optimizer='adam', metrics=['accuracy'])"
      ],
      "metadata": {
        "id": "muK4yl9IvnWs"
      },
      "execution_count": 4,
      "outputs": []
    },
    {
      "cell_type": "code",
      "source": [
        "# fit the keras model on the dataset\n",
        "model.fit(X, y, epochs=10, batch_size=10)"
      ],
      "metadata": {
        "colab": {
          "base_uri": "https://localhost:8080/"
        },
        "id": "kP4XEOA3vuOg",
        "outputId": "e2c5d5dc-f116-4241-86e0-8476654195dc"
      },
      "execution_count": 5,
      "outputs": [
        {
          "output_type": "stream",
          "name": "stdout",
          "text": [
            "Epoch 1/10\n",
            "77/77 [==============================] - 1s 2ms/step - loss: 14.5162 - accuracy: 0.6510\n",
            "Epoch 2/10\n",
            "77/77 [==============================] - 0s 2ms/step - loss: 2.0966 - accuracy: 0.5846\n",
            "Epoch 3/10\n",
            "77/77 [==============================] - 0s 2ms/step - loss: 1.0434 - accuracy: 0.5651\n",
            "Epoch 4/10\n",
            "77/77 [==============================] - 0s 2ms/step - loss: 0.8196 - accuracy: 0.5872\n",
            "Epoch 5/10\n",
            "77/77 [==============================] - 0s 2ms/step - loss: 0.7650 - accuracy: 0.6276\n",
            "Epoch 6/10\n",
            "77/77 [==============================] - 0s 2ms/step - loss: 0.7263 - accuracy: 0.6458\n",
            "Epoch 7/10\n",
            "77/77 [==============================] - 0s 2ms/step - loss: 0.6830 - accuracy: 0.6458\n",
            "Epoch 8/10\n",
            "77/77 [==============================] - 0s 2ms/step - loss: 0.6638 - accuracy: 0.6706\n",
            "Epoch 9/10\n",
            "77/77 [==============================] - 0s 2ms/step - loss: 0.6544 - accuracy: 0.6576\n",
            "Epoch 10/10\n",
            "77/77 [==============================] - 0s 2ms/step - loss: 0.6482 - accuracy: 0.6602\n"
          ]
        },
        {
          "output_type": "execute_result",
          "data": {
            "text/plain": [
              "<keras.src.callbacks.History at 0x7c212eb8d600>"
            ]
          },
          "metadata": {},
          "execution_count": 5
        }
      ]
    },
    {
      "cell_type": "code",
      "source": [
        "# evaluate the keras model\n",
        "_, accuracy = model.evaluate(X, y)\n",
        "print('Accuracy: %.2f' % (accuracy*100))"
      ],
      "metadata": {
        "colab": {
          "base_uri": "https://localhost:8080/"
        },
        "id": "Tvrm79p1vzcm",
        "outputId": "abfc2791-3a5a-4136-820d-7d9bcc5bae79"
      },
      "execution_count": 6,
      "outputs": [
        {
          "output_type": "stream",
          "name": "stdout",
          "text": [
            "24/24 [==============================] - 0s 2ms/step - loss: 0.6293 - accuracy: 0.6497\n",
            "Accuracy: 64.97\n"
          ]
        }
      ]
    },
    {
      "cell_type": "code",
      "source": [
        "# make class predictions with the model\n",
        "predictions = (model.predict(X) > 0.5).astype(int)\n",
        "\n"
      ],
      "metadata": {
        "colab": {
          "base_uri": "https://localhost:8080/"
        },
        "id": "XL81Xm2Uv3Nz",
        "outputId": "f31a74b9-9b50-439c-ea41-8ee5260dfd25"
      },
      "execution_count": 10,
      "outputs": [
        {
          "output_type": "stream",
          "name": "stdout",
          "text": [
            "24/24 [==============================] - 0s 3ms/step\n"
          ]
        }
      ]
    },
    {
      "cell_type": "code",
      "source": [
        "# summarize the first 5 cases in the dataset = the Actual and the Predicted Classification\n",
        "for i in range(5):\n",
        " print('%s => %d (expected %d)' % (X[i].tolist(), predictions[i], y[i]))"
      ],
      "metadata": {
        "colab": {
          "base_uri": "https://localhost:8080/"
        },
        "id": "NWHJyTx3wl0E",
        "outputId": "835608c7-a8ba-441e-c615-cca891cc19a3"
      },
      "execution_count": 13,
      "outputs": [
        {
          "output_type": "stream",
          "name": "stdout",
          "text": [
            "[6.0, 148.0, 72.0, 35.0, 0.0, 33.6, 0.627, 50.0] => 1 (expected 1)\n",
            "[1.0, 85.0, 66.0, 29.0, 0.0, 26.6, 0.351, 31.0] => 0 (expected 0)\n",
            "[8.0, 183.0, 64.0, 0.0, 0.0, 23.3, 0.672, 32.0] => 1 (expected 1)\n",
            "[1.0, 89.0, 66.0, 23.0, 94.0, 28.1, 0.167, 21.0] => 0 (expected 0)\n",
            "[0.0, 137.0, 40.0, 35.0, 168.0, 43.1, 2.288, 33.0] => 1 (expected 1)\n"
          ]
        },
        {
          "output_type": "stream",
          "name": "stderr",
          "text": [
            "<ipython-input-13-86243ff33da0>:3: DeprecationWarning: Conversion of an array with ndim > 0 to a scalar is deprecated, and will error in future. Ensure you extract a single element from your array before performing this operation. (Deprecated NumPy 1.25.)\n",
            "  print('%s => %d (expected %d)' % (X[i].tolist(), predictions[i], y[i]))\n"
          ]
        }
      ]
    }
  ]
}